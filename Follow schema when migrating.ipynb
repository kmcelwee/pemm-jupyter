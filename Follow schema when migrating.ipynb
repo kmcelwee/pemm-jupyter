{
 "cells": [
  {
   "cell_type": "code",
   "execution_count": 1,
   "metadata": {},
   "outputs": [],
   "source": [
    "import pandas as pd\n",
    "import json\n",
    "import os\n",
    "from os.path import join as pjoin"
   ]
  },
  {
   "cell_type": "code",
   "execution_count": 2,
   "metadata": {},
   "outputs": [],
   "source": [
    "DATADIR = '../pemm-data/data'\n",
    "OUTDIR = '../pemm-data/data_clean'"
   ]
  },
  {
   "cell_type": "code",
   "execution_count": 3,
   "metadata": {},
   "outputs": [],
   "source": [
    "with open('../pemm-scripts/src/schema.json') as f:\n",
    "    schema = json.load(f)\n",
    "schema = schema['sheets']"
   ]
  },
  {
   "cell_type": "code",
   "execution_count": 5,
   "metadata": {},
   "outputs": [],
   "source": [
    "file_to_name = {\n",
    "    'story_instance.csv': 'Story Instance',\n",
    "    'canonical_story.csv': 'Canonical Story',\n",
    "    'manuscript.csv': 'Manuscript',\n",
    "    'collection.csv': 'Collection',\n",
    "    'story_origin.csv': 'Story Origin',\n",
    "}\n",
    "name_to_file = {v: k for k, v in file_to_name.items()}"
   ]
  },
  {
   "cell_type": "code",
   "execution_count": 7,
   "metadata": {},
   "outputs": [],
   "source": [
    "# Only include files listed in schema\n",
    "schema_files = [name_to_file[x['name']] for x in schema]\n",
    "\n",
    "for f in schema_files:\n",
    "    df = pd.read_csv(pjoin(DATADIR, f))\n",
    "    \n",
    "    # get the columns from the schema\n",
    "    sheet = [x for x in schema if x['name'] == file_to_name[f]][0]\n",
    "    columns = [field['name'] for field in sheet['fields']]\n",
    "    \n",
    "    # save only those columns into new directory\n",
    "    df_n = df[columns]\n",
    "    df = df.dropna(how=\"all\", axis=0) # drop empty rows\n",
    "    df_n.to_csv(pjoin(OUTDIR, f))"
   ]
  },
  {
   "cell_type": "code",
   "execution_count": null,
   "metadata": {},
   "outputs": [],
   "source": []
  }
 ],
 "metadata": {
  "kernelspec": {
   "display_name": "Python 3",
   "language": "python",
   "name": "python3"
  },
  "language_info": {
   "codemirror_mode": {
    "name": "ipython",
    "version": 3
   },
   "file_extension": ".py",
   "mimetype": "text/x-python",
   "name": "python",
   "nbconvert_exporter": "python",
   "pygments_lexer": "ipython3",
   "version": "3.7.6"
  }
 },
 "nbformat": 4,
 "nbformat_minor": 4
}
