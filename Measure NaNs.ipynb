{
 "cells": [
  {
   "cell_type": "markdown",
   "metadata": {},
   "source": [
    "# Measure NaNs\n",
    "---\n",
    "A simple report generator to understand the general makeup of how many NaNs makeup the `pemm-data` repo."
   ]
  },
  {
   "cell_type": "code",
   "execution_count": 1,
   "metadata": {},
   "outputs": [],
   "source": [
    "import pandas as pd\n",
    "import numpy as np\n",
    "import os\n",
    "import matplotlib.pyplot as plt\n",
    "%matplotlib inline"
   ]
  },
  {
   "cell_type": "code",
   "execution_count": 2,
   "metadata": {},
   "outputs": [
    {
     "data": {
      "text/plain": [
       "['canonical_story.csv',\n",
       " 'collection.csv',\n",
       " '.DS_Store',\n",
       " 'manuscript.csv',\n",
       " 'story_instance.csv',\n",
       " 'macomber_incipits.csv',\n",
       " 'story_origin.csv']"
      ]
     },
     "execution_count": 2,
     "metadata": {},
     "output_type": "execute_result"
    }
   ],
   "source": [
    "os.listdir('data')"
   ]
  },
  {
   "cell_type": "code",
   "execution_count": 3,
   "metadata": {
    "scrolled": false
   },
   "outputs": [
    {
     "name": "stdout",
     "output_type": "stream",
     "text": [
      "\n",
      "---------------canonical_story.csv--------------\n",
      "Rows: 715, Columns: 13\n",
      "100.0\tMacomber ID\n",
      "100.0\tMacomber Title\n",
      "12.17\tOrigin\n",
      "0.0\tPoncelet Number\n",
      "93.43\tHamburg ID\n",
      "23.78\tEnglish Translation\n",
      "28.53\tPrint Version\n",
      "0.0\tCSM Number\n",
      "93.43\tClavis ID\n",
      "15.52\tTranslation of Story into English\n",
      "22.94\tTranslations; formerly English Translation\n",
      "93.15\tMacomber ID Number\n",
      "4.48\tMacomber ID Letter\n",
      "\n",
      "---------------collection.csv--------------\n",
      "Rows: 33, Columns: 10\n",
      "100.0\tName\n",
      "96.97\tCollection Abbreviation\n",
      "96.97\tInstitution Abbreviation\n",
      "30.3\tCollection Name\n",
      "93.94\tInstitution Name\n",
      "96.97\tCountry\n",
      "96.97\tCity\n",
      "12.12\tLatitude\n",
      "12.12\tLongitude\n",
      "93.94\tSource\n",
      "\n",
      "---------------manuscript.csv--------------\n",
      "Rows: 308, Columns: 29\n",
      "100.0\tManuscript Name\n",
      "100.0\tID\n",
      "69.48\tTitle\n",
      "100.0\tCollection\n",
      "0.65\tOriginal Collection\n",
      "100.0\tTotal Stories\n",
      "30.19\tTotal Folios\n",
      "0.32\tTotal Pages\n",
      "86.69\tCentury\n",
      "85.06\tDate Range Start\n",
      "85.06\tDate Range End\n",
      "22.08\tDate Note\n",
      "58.77\tProvenance\n",
      "32.79\tLink\n",
      "35.06\tvHMML permalink (pending on 04/25/2020)\n",
      "25.97\tColumns per page\n",
      "23.7\tLines per column\n",
      "1.3\tCharacters per line\n",
      "64.29\tHamburg MS ID\n",
      "8.44\tLatitude\n",
      "8.44\tLongitude\n",
      "56.49\tPlace Recorded/Purchased\n",
      "8.44\tTitle from catalog\n",
      "64.61\tTotal Stories according to catalog\n",
      "17.86\tNumber of Paintings according to catalog\n",
      "60.06\tLink to catalog\n",
      "43.83\tCatalog has miracles records\n",
      "44.16\tCan be used for sequence (miracles folio range matches with catalog)\n",
      "4.55\tMss rebound in disorder or there are breaks in the sequence of TM\n",
      "\n",
      "---------------story_instance.csv--------------\n",
      "Rows: 14516, Columns: 31\n",
      "61.26\tManuscript\n",
      "55.34\tCanonical Story ID\n",
      "55.34\tCanonical Story Title\n",
      "52.54\tFolio Start\n",
      "5.09\tColumn Start\n",
      "2.25\tLine Start\n",
      "9.7\tFolio End\n",
      "4.76\tColumn End\n",
      "2.23\tLine End\n",
      "28.66\tMiracle Number\n",
      "0.97\tNumber of Paintings\n",
      "10.8\tIncipit\n",
      "99.99\tMacomber Incipit\n",
      "7.74\tConfidence Score\n",
      "1.24\tBest Incipit Tool Match\n",
      "99.97\tStory Incomplete\n",
      "0.04\tBlank TM folios\n",
      "5.46\tEthiopic Story Number\n",
      "0.41\tStory Variation\n",
      "99.98\tHigh Confidence Not IT\n",
      "1.81\tPrinceton Catalog Folios\n",
      "2.05\tPrinceton Catalog Titles\n",
      "0.61\tBody of story start folio & line\n",
      "99.97\tMacomber Incipit.1\n",
      "58.51\t(test on whether there are two incipits in the ITool on the same folio)\n",
      "58.51\tTest for whether the incipit is not unique\n",
      "6.61\tNew mss (column for sorting)\n",
      "2.18\tMiracles sequence number\n",
      "51.21\tFolio Start Number\n",
      "48.44\tFolio Start Letter\n",
      "0.07\tTemporary English Translation for TGS 1994, to be moved when ID'd\n",
      "\n",
      "---------------macomber_incipits.csv--------------\n",
      "Rows: 723, Columns: 4\n",
      "100.0\tMacomber ID\n",
      "100.0\tMacomber Incipit\n",
      "100.0\tManuscript for Macomber Incipit\n",
      "74.55\tLink\n",
      "\n",
      "---------------story_origin.csv--------------\n",
      "Rows: 44, Columns: 3\n",
      "100.0\tName\n",
      "100.0\tRegion\n",
      "70.45\tTown/Country\n"
     ]
    }
   ],
   "source": [
    "ignore = {\n",
    "    'canonical_story.csv': ['Notes'],\n",
    "    'story_origin.csv': ['Notes'],\n",
    "    'collection.csv': ['Notes'],\n",
    "    'manuscript.csv': ['Notes'],\n",
    "    'story_instance.csv': ['Notes'],\n",
    "    'macomber_incipits.csv': ['Notes and alternate forms of incipit by a few letters']\n",
    "}\n",
    "\n",
    "def percent_complete(df_col):\n",
    "    count = df_col.count()\n",
    "    tot = df_col.shape[0]\n",
    "    return round(count/tot*100, 2)\n",
    "\n",
    "for f in [x for x in os.listdir('data') if not x.startswith('.')]:\n",
    "    print(f'\\n---------------{f}--------------')\n",
    "    df = pd.read_csv(f'data/{f}')\n",
    "    df = df[[c for c in df.columns if not (c.startswith('Unnamed') or c.startswith('Notes'))]]\n",
    "    df = df.dropna(how=\"all\", axis=0)\n",
    "    print(f'Rows: {df.shape[0]}, Columns: {df.shape[1]}')\n",
    "    for c in df.columns:\n",
    "        print(f\"{percent_complete(df[c])}\\t{c}\")"
   ]
  }
 ],
 "metadata": {
  "kernelspec": {
   "display_name": "Python 3",
   "language": "python",
   "name": "python3"
  },
  "language_info": {
   "codemirror_mode": {
    "name": "ipython",
    "version": 3
   },
   "file_extension": ".py",
   "mimetype": "text/x-python",
   "name": "python",
   "nbconvert_exporter": "python",
   "pygments_lexer": "ipython3",
   "version": "3.7.6"
  }
 },
 "nbformat": 4,
 "nbformat_minor": 4
}
