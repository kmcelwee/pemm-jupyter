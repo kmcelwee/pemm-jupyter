{
 "cells": [
  {
   "cell_type": "markdown",
   "metadata": {},
   "source": [
    "# Clean incipits\n",
    "---\n",
    "Preparing solely for `incipit` -> `canonical story id` mapping, what essential information should we pull from the existing CSVs? Here we strip unuseful nans and columns as well as English notes and punctuation. We create `stripped_incipits.csv` and `stripped_incipits.txt` for later analysis"
   ]
  },
  {
   "cell_type": "code",
   "execution_count": 8,
   "metadata": {},
   "outputs": [],
   "source": [
    "import pandas as pd\n",
    "import numpy as np\n",
    "import string\n",
    "import re"
   ]
  },
  {
   "cell_type": "code",
   "execution_count": 9,
   "metadata": {},
   "outputs": [
    {
     "data": {
      "text/plain": [
       "Index(['Manuscript', 'Canonical Story ID', 'Canonical Story Title',\n",
       "       'Folio Start', 'Column Start', 'Line Start', 'Folio End', 'Column End',\n",
       "       'Line End', 'Miracle Number', 'Number of Paintings', 'Incipit',\n",
       "       'Macomber Incipit', 'Confidence Score', 'Notes',\n",
       "       'Best Incipit Tool Match', 'Story Incomplete', 'Blank TM folios',\n",
       "       'Ethiopic Story Number', 'Story Variation', 'High Confidence Not IT',\n",
       "       'Princeton Catalog Folios', 'Princeton Catalog Titles',\n",
       "       'Body of story start folio & line', 'Macomber Incipit.1',\n",
       "       '(test on whether there are two incipits in the ITool on the same folio)',\n",
       "       'Test for whether the incipit is not unique',\n",
       "       'New mss (column for sorting)', 'Miracles sequence number',\n",
       "       'Folio Start Number', 'Folio Start Letter',\n",
       "       'Temporary English Translation for TGS 1994, to be moved when ID'd'],\n",
       "      dtype='object')"
      ]
     },
     "execution_count": 9,
     "metadata": {},
     "output_type": "execute_result"
    }
   ],
   "source": [
    "df = pd.read_csv('data/story_instance.csv')\n",
    "df.columns"
   ]
  },
  {
   "cell_type": "code",
   "execution_count": 10,
   "metadata": {},
   "outputs": [],
   "source": [
    "# useful columns\n",
    "useful_columns = ['Canonical Story ID', 'Incipit']\n",
    "df = df[useful_columns]\n",
    "# useful rows\n",
    "df = df.dropna(how=\"all\", axis=0)\n",
    "# quick renaming\n",
    "df.columns = ['canon_id', 'incipit']"
   ]
  },
  {
   "cell_type": "code",
   "execution_count": 11,
   "metadata": {},
   "outputs": [],
   "source": [
    "# collect english chars and ethiopian punctuation\n",
    "remove = list('abcdefghijklmnopqrstuvwxyz…')\n",
    "remove.extend(string.punctuation)\n",
    "remove.extend(['…', '፡', '።', '፨'])"
   ]
  },
  {
   "cell_type": "code",
   "execution_count": 12,
   "metadata": {},
   "outputs": [],
   "source": [
    "def clean_incipit(incipit):\n",
    "    if not pd.isna(incipit):\n",
    "        # remove all punctuation, english letters, and whitespace\n",
    "        stripped = ''.join([c for c in incipit if c.lower() not in remove]).strip()\n",
    "        stripped = re.sub(r'[ ]+', ' ', stripped) # replace any number of spaces with single space\n",
    "        cleaned = np.nan if stripped == '' else stripped\n",
    "    else:\n",
    "        cleaned = np.nan\n",
    "    return cleaned\n",
    "\n",
    "df['clean_incipit'] = df['incipit'].copy()\n",
    "df['clean_incipit'] = df['clean_incipit'].apply(lambda x: clean_incipit(x))"
   ]
  },
  {
   "cell_type": "code",
   "execution_count": 13,
   "metadata": {},
   "outputs": [
    {
     "data": {
      "text/html": [
       "<div>\n",
       "<style scoped>\n",
       "    .dataframe tbody tr th:only-of-type {\n",
       "        vertical-align: middle;\n",
       "    }\n",
       "\n",
       "    .dataframe tbody tr th {\n",
       "        vertical-align: top;\n",
       "    }\n",
       "\n",
       "    .dataframe thead th {\n",
       "        text-align: right;\n",
       "    }\n",
       "</style>\n",
       "<table border=\"1\" class=\"dataframe\">\n",
       "  <thead>\n",
       "    <tr style=\"text-align: right;\">\n",
       "      <th></th>\n",
       "      <th>canon_id</th>\n",
       "      <th>incipit</th>\n",
       "      <th>clean_incipit</th>\n",
       "    </tr>\n",
       "  </thead>\n",
       "  <tbody>\n",
       "    <tr>\n",
       "      <th>1</th>\n",
       "      <td>207</td>\n",
       "      <td>ንወጥን፡ በረድኤተ፡ እግዚአብሔር፡ ወበአኰቴተ፡ ስብሐቲሁ፨ ወንዜንወክሙ፡ ...</td>\n",
       "      <td>ንወጥን በረድኤተ እግዚአብሔር ወበአኰቴተ ስብሐቲሁ ወንዜንወክሙ ኦአኃውየ ...</td>\n",
       "    </tr>\n",
       "    <tr>\n",
       "      <th>2</th>\n",
       "      <td>159</td>\n",
       "      <td>ተብህለ፡ ከመ፡ ሀሎ፡ ፩ደብር፡ ዘደናግል፡ በውስተ፡ አሐቲ፡ ሀገር፨ ወሀለ...</td>\n",
       "      <td>ተብህለ ከመ ሀሎ ፩ደብር ዘደናግል በውስተ አሐቲ ሀገር ወሀለወት ውስተ ው...</td>\n",
       "    </tr>\n",
       "    <tr>\n",
       "      <th>3</th>\n",
       "      <td>160</td>\n",
       "      <td>ተብህለ፡ ከመ፡ ሀሎ፡ ፩ብእሲ፡ በሀገረ፡ እልፍንድር፡ ወኮነ፡ ይፈቅድ፡ ከ...</td>\n",
       "      <td>ተብህለ ከመ ሀሎ ፩ብእሲ በሀገረ እልፍንድር ወኮነ ይፈቅድ ከመ ይኩን ብዙ...</td>\n",
       "    </tr>\n",
       "    <tr>\n",
       "      <th>4</th>\n",
       "      <td>156</td>\n",
       "      <td>ተብህለ፡ ከመ፡ ሀሎ፡ ፩ወሬዛ፡ ዘሠናይ፡ አርአያሁ፨ ወያፈቅራ፡ ለእግዝእት...</td>\n",
       "      <td>ተብህለ ከመ ሀሎ ፩ወሬዛ ዘሠናይ አርአያሁ ወያፈቅራ ለእግዝእትነ በኵሉ ል...</td>\n",
       "    </tr>\n",
       "    <tr>\n",
       "      <th>5</th>\n",
       "      <td>172</td>\n",
       "      <td>ወነበረ፡ ፩ብእሲ፡ ባዕል፡ ወነጋዲ፡ በሀገረ፡ ኒቆንያ፨ ወቦቱ፡ ምግባረ፡ ...</td>\n",
       "      <td>ወነበረ ፩ብእሲ ባዕል ወነጋዲ በሀገረ ኒቆንያ ወቦቱ ምግባረ ሠናይ ወይምሕ...</td>\n",
       "    </tr>\n",
       "  </tbody>\n",
       "</table>\n",
       "</div>"
      ],
      "text/plain": [
       "  canon_id                                            incipit  \\\n",
       "1      207  ንወጥን፡ በረድኤተ፡ እግዚአብሔር፡ ወበአኰቴተ፡ ስብሐቲሁ፨ ወንዜንወክሙ፡ ...   \n",
       "2      159  ተብህለ፡ ከመ፡ ሀሎ፡ ፩ደብር፡ ዘደናግል፡ በውስተ፡ አሐቲ፡ ሀገር፨ ወሀለ...   \n",
       "3      160  ተብህለ፡ ከመ፡ ሀሎ፡ ፩ብእሲ፡ በሀገረ፡ እልፍንድር፡ ወኮነ፡ ይፈቅድ፡ ከ...   \n",
       "4      156  ተብህለ፡ ከመ፡ ሀሎ፡ ፩ወሬዛ፡ ዘሠናይ፡ አርአያሁ፨ ወያፈቅራ፡ ለእግዝእት...   \n",
       "5      172  ወነበረ፡ ፩ብእሲ፡ ባዕል፡ ወነጋዲ፡ በሀገረ፡ ኒቆንያ፨ ወቦቱ፡ ምግባረ፡ ...   \n",
       "\n",
       "                                       clean_incipit  \n",
       "1  ንወጥን በረድኤተ እግዚአብሔር ወበአኰቴተ ስብሐቲሁ ወንዜንወክሙ ኦአኃውየ ...  \n",
       "2  ተብህለ ከመ ሀሎ ፩ደብር ዘደናግል በውስተ አሐቲ ሀገር ወሀለወት ውስተ ው...  \n",
       "3  ተብህለ ከመ ሀሎ ፩ብእሲ በሀገረ እልፍንድር ወኮነ ይፈቅድ ከመ ይኩን ብዙ...  \n",
       "4  ተብህለ ከመ ሀሎ ፩ወሬዛ ዘሠናይ አርአያሁ ወያፈቅራ ለእግዝእትነ በኵሉ ል...  \n",
       "5  ወነበረ ፩ብእሲ ባዕል ወነጋዲ በሀገረ ኒቆንያ ወቦቱ ምግባረ ሠናይ ወይምሕ...  "
      ]
     },
     "execution_count": 13,
     "metadata": {},
     "output_type": "execute_result"
    }
   ],
   "source": [
    "df.head()"
   ]
  },
  {
   "cell_type": "code",
   "execution_count": 14,
   "metadata": {},
   "outputs": [],
   "source": [
    "df.to_csv('output/stripped_incipits.csv', index=False)\n",
    "with open('output/stripped_incipits.txt', 'w') as f:\n",
    "    f.writelines([x + '\\n' for x in df['clean_incipit'] if not pd.isna(x)])"
   ]
  }
 ],
 "metadata": {
  "kernelspec": {
   "display_name": "Python 3",
   "language": "python",
   "name": "python3"
  },
  "language_info": {
   "codemirror_mode": {
    "name": "ipython",
    "version": 3
   },
   "file_extension": ".py",
   "mimetype": "text/x-python",
   "name": "python",
   "nbconvert_exporter": "python",
   "pygments_lexer": "ipython3",
   "version": "3.7.6"
  }
 },
 "nbformat": 4,
 "nbformat_minor": 4
}
