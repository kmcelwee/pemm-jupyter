{
  "nbformat": 4,
  "nbformat_minor": 0,
  "metadata": {
    "kernelspec": {
      "display_name": "Python 3",
      "language": "python",
      "name": "python3"
    },
    "language_info": {
      "codemirror_mode": {
        "name": "ipython",
        "version": 3
      },
      "file_extension": ".py",
      "mimetype": "text/x-python",
      "name": "python",
      "nbconvert_exporter": "python",
      "pygments_lexer": "ipython3",
      "version": "3.7.6"
    },
    "colab": {
      "name": "Measure Progress.ipynb",
      "provenance": [],
      "collapsed_sections": []
    }
  },
  "cells": [
    {
      "cell_type": "markdown",
      "metadata": {
        "id": "ktbw2VWDe3Kg",
        "colab_type": "text"
      },
      "source": [
        "# Measure Progress\n",
        "---\n",
        "A simple report generator to understand the general makeup of how many NaNs makeup the `pemm-data` repo."
      ]
    },
    {
      "cell_type": "code",
      "metadata": {
        "id": "LtQNS33Je3Kh",
        "colab_type": "code",
        "colab": {}
      },
      "source": [
        "import pandas as pd\n",
        "import numpy as np\n",
        "import os\n",
        "import matplotlib.pyplot as plt\n",
        "%matplotlib inline"
      ],
      "execution_count": 2,
      "outputs": []
    },
    {
      "cell_type": "code",
      "metadata": {
        "id": "c-blYJLkgMPE",
        "colab_type": "code",
        "colab": {
          "base_uri": "https://localhost:8080/",
          "height": 34
        },
        "outputId": "58e3ec6a-78d6-43e2-ed83-e71a02c30ea0"
      },
      "source": [
        "if os.path.exists('pemm-data'):\n",
        "  !cd pemm-data; git pull\n",
        "else:\n",
        "  !git clone 'https://github.com/princeton-cdh/pemm-data'"
      ],
      "execution_count": 5,
      "outputs": [
        {
          "output_type": "stream",
          "text": [
            "Already up to date.\n"
          ],
          "name": "stdout"
        }
      ]
    },
    {
      "cell_type": "code",
      "metadata": {
        "scrolled": false,
        "id": "HsagKJmoe3Kq",
        "colab_type": "code",
        "colab": {
          "base_uri": "https://localhost:8080/",
          "height": 1000
        },
        "outputId": "c7d588b5-a95d-4594-9c36-c8363d4fc1db"
      },
      "source": [
        "def percent_complete(df_col):\n",
        "    count = df_col.count()\n",
        "    tot = df_col.shape[0]\n",
        "    return round(count/tot*100, 2)\n",
        "\n",
        "for f in [x for x in os.listdir(DATA_DIR) if not x.startswith('.')]:\n",
        "    print(f'\\n---------------{f}--------------')\n",
        "    df = pd.read_csv(f'{DATA_DIR}/{f}')\n",
        "    df = df[[c for c in df.columns if not (c.startswith('Unnamed') or c.startswith('Notes'))]]\n",
        "    df = df.dropna(how=\"all\", axis=0)\n",
        "    print(f'Rows: {df.shape[0]}, Columns: {df.shape[1]}')\n",
        "    for c in df.columns:\n",
        "        print(f\"{percent_complete(df[c])}\\t{c}\")"
      ],
      "execution_count": 10,
      "outputs": [
        {
          "output_type": "stream",
          "text": [
            "\n",
            "---------------story_origin.csv--------------\n",
            "Rows: 42, Columns: 3\n",
            "100.0\tName\n",
            "100.0\tRegion\n",
            "76.19\tTown/Country\n",
            "\n",
            "---------------story_instance.csv--------------\n",
            "Rows: 14714, Columns: 41\n",
            "100.0\tManuscript\n",
            "57.24\tCanonical Story ID\n",
            "1.37\tRecension ID\n",
            "57.24\tCanonical Story Title\n",
            "56.16\tFolio Start\n",
            "0.0\tScan Start\n",
            "11.02\tColumn Start\n",
            "8.41\tLine Start\n",
            "2.52\tBody of Story Start\n",
            "12.13\tFolio End\n",
            "0.0\tScan End\n",
            "9.24\tColumn End\n",
            "6.94\tLine End\n",
            "68.74\tMiracle Number\n",
            "16.69\tIncipit\n",
            "11.55\tConfidence Score\n",
            "1.09\tIncipit Full\n",
            "0.7\tStory Word Variation\n",
            "99.99\tStory Incomplete\n",
            "0.07\tBlank TM folios\n",
            "1.72\tNumber of Paintings\n",
            "2.7\tPainting Note\n",
            "100.0\tExclude from ITool\n",
            "5.4\tEthiopic Story Number\n",
            "7.04\tMiracles Sequence Number\n",
            "100.0\tCanonical Incipit\n",
            "100.0\tMacomber ms, non-Macomber record\n",
            "5.39\tBest Incipit Tool Match\n",
            "99.44\tNonunique Incipit\n",
            "13.46\tNew Ms\n",
            "55.21\tFolio Start Number\n",
            "52.04\tFolio Start Letter\n",
            "0.19\tTemporary English Translation for TGS 1994, to be moved when ID'd\n",
            "1.79\tPrinceton Catalog Folios\n",
            "2.02\tPrinceton Catalog Titles\n",
            "99.61\tManuscript Date Range Start        \n",
            "99.61\tManuscript Date Range End        \n",
            "99.55\tStory Century\n",
            "57.22\tStory Earliest Century\n",
            "100.0\tIncipit Typed\n",
            "100.0\tID Ready\n",
            "\n",
            "---------------manuscript.csv--------------\n",
            "Rows: 358, Columns: 38\n",
            "100.0\tManuscript Name\n",
            "64.53\tTitle\n",
            "88.27\tMS Status\n",
            "100.0\tTotal Stories\n",
            "60.89\tCatalog Total Stories\n",
            "100.0\tInclude in the Analysis\n",
            "31.01\tTotal Folios\n",
            "97.49\tCentury\n",
            "97.49\tDate Range Start\n",
            "97.49\tDate Range End\n",
            "41.62\tDate Note\n",
            "97.21\tCentury Numeric\n",
            "47.49\tLink to Digital Copy\n",
            "100.0\tMacomber Manuscript\n",
            "100.0\tDelamarter Manuscript\n",
            "0.56\tTotal Pages\n",
            "0.0\tTotal Scans\n",
            "24.02\tColumns per page\n",
            "22.07\tLine range per column\n",
            "0.0\tLines per column\n",
            "1.12\tCharacters per line\n",
            "100.0\tTotal TM Paintings\n",
            "0.28\tTM Paintings\n",
            "55.59\tProvenance\n",
            "32.4\tLatitude\n",
            "32.4\tLongitude\n",
            "50.56\tPlace Recorded/Purchased\n",
            "100.0\tID\n",
            "100.0\tCollection\n",
            "0.56\tOriginal Collection\n",
            "63.69\tHamburg MS ID\n",
            "53.63\tCatalog\n",
            "30.17\tvHMML permalink pending\n",
            "7.26\tTitle from catalog\n",
            "15.64\tNumber of Paintings according to catalog\n",
            "37.71\tCatalog has miracles records\n",
            "37.99\tCan be used for sequence (miracles folio range matches with catalog)\n",
            "4.19\tMss rebound in disorder or there are breaks in the sequence of TM\n",
            "\n",
            "---------------canonical_story.csv--------------\n",
            "Rows: 719, Columns: 21\n",
            "99.58\tMacomber ID\n",
            "99.44\tMacomber Title\n",
            "20.31\tOrigin\n",
            "26.01\tEnglish Translation\n",
            "17.94\tEMIP Summary\n",
            "4.73\tHamburg Titles\n",
            "0.0\tPrinceton Titles\n",
            "91.52\tMacomber Keywords\n",
            "98.61\tEarliest Attestation\n",
            "99.58\tTotal Records\n",
            "99.58\tTotal Paintings\n",
            "92.91\tHamburg ID\n",
            "0.28\tCSM Number\n",
            "0.83\tPoncelet Number\n",
            "92.91\tClavis ID\n",
            "28.37\tPrint Version\n",
            "15.16\tEnglish Translation Link\n",
            "24.06\tEnglish Translation Source\n",
            "99.3\tMacomber ID Number\n",
            "4.45\tMacomber ID Letter\n",
            "0.0\tColin Origin\n",
            "\n",
            "---------------collection.csv--------------\n",
            "Rows: 51, Columns: 10\n",
            "100.0\tName\n",
            "98.04\tCollection Abbreviation\n",
            "98.04\tInstitution Abbreviation\n",
            "54.9\tCollection Name\n",
            "96.08\tInstitution Name\n",
            "94.12\tCountry\n",
            "96.08\tCity\n",
            "7.84\tLatitude\n",
            "7.84\tLongitude\n",
            "94.12\tSource\n",
            "\n",
            "---------------emda_180.csv--------------\n",
            "Rows: 113, Columns: 14\n",
            "100.0\tManuscript\n",
            "0.0\tIMG or Folio?\n",
            "0.0\tIMG/Folio Start\n",
            "0.0\tColumn Start\n",
            "0.0\tLine Start\n",
            "0.0\tBody of Story Start\n",
            "0.0\tIMG/Folio End\n",
            "0.0\tColumn End\n",
            "0.0\tLine End\n",
            "100.0\tMiracle Number\n",
            "0.0\tIncipit\n",
            "0.0\tNumber of Paintings\n",
            "0.0\tStory Incomplete\n",
            "0.0\tBlank TM folios\n",
            "\n",
            "---------------emda_153.csv--------------\n",
            "Rows: 113, Columns: 14\n",
            "100.0\tManuscript\n",
            "0.0\tIMG or Folio?\n",
            "0.0\tIMG/Folio Start\n",
            "0.0\tColumn Start\n",
            "0.0\tLine Start\n",
            "0.0\tBody of Story Start\n",
            "0.0\tIMG/Folio End\n",
            "0.0\tColumn End\n",
            "0.0\tLine End\n",
            "100.0\tMiracle Number\n",
            "0.0\tIncipit\n",
            "0.0\tNumber of Paintings\n",
            "0.0\tStory Incomplete\n",
            "0.0\tBlank TM folios\n"
          ],
          "name": "stdout"
        }
      ]
    },
    {
      "cell_type": "code",
      "metadata": {
        "id": "sWEweYl1TzV4",
        "colab_type": "code",
        "colab": {}
      },
      "source": [
        ""
      ],
      "execution_count": null,
      "outputs": []
    }
  ]
}