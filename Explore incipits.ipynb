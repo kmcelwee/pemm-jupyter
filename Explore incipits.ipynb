{
 "cells": [
  {
   "cell_type": "markdown",
   "metadata": {},
   "source": [
    "# Explore incipits\n",
    "---\n",
    "Look into the general architecture of the `incipit` -> `canonical story id` mapping. The goal is to do every kind of explicit, if/then analysis before moving into machine learning, answering questions like:\n",
    "* What data has and has not been filled in yet?\n",
    "* Has there been obvious errors in data entry?\n",
    "* Are there exact matches for the unmapped rows?\n",
    "* If we do use clustering, what's the general linguistic makeup of the incipits?"
   ]
  },
  {
   "cell_type": "code",
   "execution_count": 1,
   "metadata": {},
   "outputs": [],
   "source": [
    "import pandas as pd\n",
    "import numpy as np\n",
    "import string\n",
    "import os\n",
    "import matplotlib.pyplot as plt\n",
    "%matplotlib inline"
   ]
  },
  {
   "cell_type": "code",
   "execution_count": 2,
   "metadata": {},
   "outputs": [
    {
     "data": {
      "text/html": [
       "<div>\n",
       "<style scoped>\n",
       "    .dataframe tbody tr th:only-of-type {\n",
       "        vertical-align: middle;\n",
       "    }\n",
       "\n",
       "    .dataframe tbody tr th {\n",
       "        vertical-align: top;\n",
       "    }\n",
       "\n",
       "    .dataframe thead th {\n",
       "        text-align: right;\n",
       "    }\n",
       "</style>\n",
       "<table border=\"1\" class=\"dataframe\">\n",
       "  <thead>\n",
       "    <tr style=\"text-align: right;\">\n",
       "      <th></th>\n",
       "      <th>canon_id</th>\n",
       "      <th>incipit</th>\n",
       "      <th>clean_incipit</th>\n",
       "    </tr>\n",
       "  </thead>\n",
       "  <tbody>\n",
       "    <tr>\n",
       "      <th>334</th>\n",
       "      <td>NaN</td>\n",
       "      <td>ክፍል ፡ ሣልሳይ ፡ በእንተ ፡ ከሊፋ ።</td>\n",
       "      <td>ክፍል ሣልሳይ በእንተ ከሊፋ</td>\n",
       "    </tr>\n",
       "    <tr>\n",
       "      <th>540</th>\n",
       "      <td>292</td>\n",
       "      <td>ስምዑኬ፡ ኦሕዝበ፡ ክርስቲያን፡ ናየድንክሙ፡ ዘንተ፡ ተአምረ፡ ዓቢየ፡ ወመ...</td>\n",
       "      <td>ስምዑኬ ኦሕዝበ ክርስቲያን ናየድንክሙ ዘንተ ተአምረ ዓቢየ ወመድምመ ዘተገ...</td>\n",
       "    </tr>\n",
       "    <tr>\n",
       "      <th>5260</th>\n",
       "      <td>205</td>\n",
       "      <td>NaN</td>\n",
       "      <td>NaN</td>\n",
       "    </tr>\n",
       "    <tr>\n",
       "      <th>6962</th>\n",
       "      <td>309</td>\n",
       "      <td>NaN</td>\n",
       "      <td>NaN</td>\n",
       "    </tr>\n",
       "    <tr>\n",
       "      <th>4120</th>\n",
       "      <td>267</td>\n",
       "      <td>NaN</td>\n",
       "      <td>NaN</td>\n",
       "    </tr>\n",
       "  </tbody>\n",
       "</table>\n",
       "</div>"
      ],
      "text/plain": [
       "     canon_id                                            incipit  \\\n",
       "334       NaN                          ክፍል ፡ ሣልሳይ ፡ በእንተ ፡ ከሊፋ ።   \n",
       "540       292  ስምዑኬ፡ ኦሕዝበ፡ ክርስቲያን፡ ናየድንክሙ፡ ዘንተ፡ ተአምረ፡ ዓቢየ፡ ወመ...   \n",
       "5260      205                                                NaN   \n",
       "6962      309                                                NaN   \n",
       "4120      267                                                NaN   \n",
       "\n",
       "                                          clean_incipit  \n",
       "334                                   ክፍል ሣልሳይ በእንተ ከሊፋ  \n",
       "540   ስምዑኬ ኦሕዝበ ክርስቲያን ናየድንክሙ ዘንተ ተአምረ ዓቢየ ወመድምመ ዘተገ...  \n",
       "5260                                                NaN  \n",
       "6962                                                NaN  \n",
       "4120                                                NaN  "
      ]
     },
     "execution_count": 2,
     "metadata": {},
     "output_type": "execute_result"
    }
   ],
   "source": [
    "df = pd.read_csv('stripped_incipits.csv')\n",
    "df.sample(5)"
   ]
  },
  {
   "cell_type": "code",
   "execution_count": 3,
   "metadata": {},
   "outputs": [
    {
     "name": "stdout",
     "output_type": "stream",
     "text": [
      "Total rows: 8383\n",
      "Both incipit and story: 1218\n",
      "No incipit but story: 6815\n",
      "Incipit but no story: 350\n"
     ]
    }
   ],
   "source": [
    "# What does this venn diagram look like? \n",
    "print(f'Total rows: {df.shape[0]}')\n",
    "x = df[~pd.isna(df['incipit']) & ~pd.isna(df['canon_id'])].shape[0]\n",
    "print(f'Both incipit and story: {x}')\n",
    "x = df[pd.isna(df['incipit']) & ~pd.isna(df['canon_id'])].shape[0]\n",
    "print(f'No incipit but story: {x}')\n",
    "x = df[~pd.isna(df['incipit']) & pd.isna(df['canon_id'])].shape[0]\n",
    "print(f'Incipit but no story: {x}')"
   ]
  },
  {
   "cell_type": "code",
   "execution_count": 4,
   "metadata": {},
   "outputs": [
    {
     "name": "stdout",
     "output_type": "stream",
     "text": [
      "Number of words: 27374\n",
      "Number of unique words: 7430\n",
      "Number of unique words with count above 10: 368\n"
     ]
    },
    {
     "data": {
      "image/png": "[encoded data removed]",
      "text/plain": [
       "<Figure size 432x288 with 1 Axes>"
      ]
     },
     "metadata": {
      "needs_background": "light"
     },
     "output_type": "display_data"
    }
   ],
   "source": [
    "# What is the general linguistic structure?\n",
    "unique_incipits = df['clean_incipit'].dropna().unique().tolist()\n",
    "\n",
    "words = []\n",
    "for w in unique_incipits:\n",
    "    words.extend(w.split())\n",
    "unique_words = set(words)\n",
    "    \n",
    "d = {}\n",
    "for w in words:\n",
    "    d[w] = d.get(w, 0) + 1\n",
    "THRESHOLD = 10\n",
    "unique_pop_words = [w for w, v in d.items() if v > THRESHOLD]\n",
    "\n",
    "print(f\"Number of words: {len(words)}\")\n",
    "print(f\"Number of unique words: {len(set(words))}\")\n",
    "print(f\"Number of unique words with count above {THRESHOLD}: {len(unique_pop_words)}\")\n",
    "plt.hist(d.values(), bins=100)\n",
    "plt.show()"
   ]
  },
  {
   "cell_type": "code",
   "execution_count": 5,
   "metadata": {},
   "outputs": [],
   "source": [
    "# Prepare mappings of incipit -> canon_id and clean_incipit -> canon_id\n",
    "df_b = df[~pd.isna(df['incipit']) & ~pd.isna(df['canon_id'])]\n",
    "df_unmapped = df[~pd.isna(df['incipit']) & pd.isna(df['canon_id'])]\n",
    "\n",
    "raw_map = {}\n",
    "for i, r in df_b.iterrows():\n",
    "    raw_map[r['incipit']] = raw_map.get(r['incipit'], []) + [r['canon_id']]\n",
    "for k, v in raw_map.items():\n",
    "    raw_map[k] = set(raw_map[k])\n",
    "\n",
    "clean_map = {}\n",
    "for i, r in df_b.iterrows():\n",
    "    clean_map[r['clean_incipit']] = clean_map.get(r['clean_incipit'], []) + [r['canon_id']]\n",
    "for k, v in clean_map.items():\n",
    "    clean_map[k] = set(clean_map[k])\n",
    "# remove nan\n",
    "del clean_map[np.nan]"
   ]
  },
  {
   "cell_type": "code",
   "execution_count": 6,
   "metadata": {},
   "outputs": [
    {
     "name": "stdout",
     "output_type": "stream",
     "text": [
      "catalog has incipits {'126', '131', '151', '164', '293', '255', '130', '179', '467', '186', '263', '183', '165', '254', '463'}\n"
     ]
    }
   ],
   "source": [
    "# Does there exist inconsistent incipit -> story mappings?\n",
    "#    Is the same incipit mapped to different stories?\n",
    "for k, v in raw_map.items():\n",
    "    if len(v) > 1:\n",
    "        print(k, v)"
   ]
  },
  {
   "cell_type": "code",
   "execution_count": 7,
   "metadata": {},
   "outputs": [
    {
     "data": {
      "text/plain": [
       "False"
      ]
     },
     "execution_count": 7,
     "metadata": {},
     "output_type": "execute_result"
    }
   ],
   "source": [
    "# Does there exist inconsistent cleaned_incipit -> story mappings?\n",
    "#    Is the same incipit mapped to different stories?\n",
    "any([len(canon_id) > 1 for clean_incipit, canon_id in clean_map.items()])"
   ]
  },
  {
   "cell_type": "code",
   "execution_count": 8,
   "metadata": {},
   "outputs": [
    {
     "data": {
      "text/plain": [
       "False"
      ]
     },
     "execution_count": 8,
     "metadata": {},
     "output_type": "execute_result"
    }
   ],
   "source": [
    "# Does there exist potential exact incipit -> story mappings?\n",
    "#    Have we already labeled an incipit that exactly matches a different story?\n",
    "any([incipit in raw_map for incipit in df_unmapped['incipit']])"
   ]
  },
  {
   "cell_type": "code",
   "execution_count": 9,
   "metadata": {},
   "outputs": [
    {
     "data": {
      "text/plain": [
       "False"
      ]
     },
     "execution_count": 9,
     "metadata": {},
     "output_type": "execute_result"
    }
   ],
   "source": [
    "# Does there exist cleaned incipit -> story mappings?\n",
    "#    Once we strip away punctuation, is there an exact match between different stories?\n",
    "any([incipit in clean_map for incipit in df_unmapped['clean_incipit'] if not pd.isna(incipit)])"
   ]
  }
 ],
 "metadata": {
  "kernelspec": {
   "display_name": "Python 3",
   "language": "python",
   "name": "python3"
  },
  "language_info": {
   "codemirror_mode": {
    "name": "ipython",
    "version": 3
   },
   "file_extension": ".py",
   "mimetype": "text/x-python",
   "name": "python",
   "nbconvert_exporter": "python",
   "pygments_lexer": "ipython3",
   "version": "3.7.6"
  }
 },
 "nbformat": 4,
 "nbformat_minor": 4
}
